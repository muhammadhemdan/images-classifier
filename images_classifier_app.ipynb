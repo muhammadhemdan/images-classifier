{
  "cells": [
    {
      "cell_type": "code",
      "execution_count": 1,
      "metadata": {
        "colab": {
          "base_uri": "https://localhost:8080/"
        },
        "id": "N_R6zftDklYw",
        "outputId": "1f530179-b4b0-44ea-f98d-cbd18ba17148"
      },
      "outputs": [
        {
          "output_type": "stream",
          "name": "stdout",
          "text": [
            "\u001b[2K     \u001b[90m━━━━━━━━━━━━━━━━━━━━━━━━━━━━━━━━━━━━━━━\u001b[0m \u001b[32m719.8/719.8 KB\u001b[0m \u001b[31m9.0 MB/s\u001b[0m eta \u001b[36m0:00:00\u001b[0m\n",
            "\u001b[2K     \u001b[90m━━━━━━━━━━━━━━━━━━━━━━━━━━━━━━━━━━━━━━\u001b[0m \u001b[32m462.8/462.8 KB\u001b[0m \u001b[31m20.1 MB/s\u001b[0m eta \u001b[36m0:00:00\u001b[0m\n",
            "\u001b[2K     \u001b[90m━━━━━━━━━━━━━━━━━━━━━━━━━━━━━━━━━━━━━━━━\u001b[0m \u001b[32m6.3/6.3 MB\u001b[0m \u001b[31m51.0 MB/s\u001b[0m eta \u001b[36m0:00:00\u001b[0m\n",
            "\u001b[2K     \u001b[90m━━━━━━━━━━━━━━━━━━━━━━━━━━━━━━━━━━━━━━━━\u001b[0m \u001b[32m1.3/1.3 MB\u001b[0m \u001b[31m33.4 MB/s\u001b[0m eta \u001b[36m0:00:00\u001b[0m\n",
            "\u001b[2K     \u001b[90m━━━━━━━━━━━━━━━━━━━━━━━━━━━━━━━━━━━━━━━\u001b[0m \u001b[32m213.0/213.0 KB\u001b[0m \u001b[31m9.1 MB/s\u001b[0m eta \u001b[36m0:00:00\u001b[0m\n",
            "\u001b[2K     \u001b[90m━━━━━━━━━━━━━━━━━━━━━━━━━━━━━━━━━━━━━━━\u001b[0m \u001b[32m190.3/190.3 KB\u001b[0m \u001b[31m8.9 MB/s\u001b[0m eta \u001b[36m0:00:00\u001b[0m\n",
            "\u001b[2K     \u001b[90m━━━━━━━━━━━━━━━━━━━━━━━━━━━━━━━━━━━━━━━\u001b[0m \u001b[32m132.0/132.0 KB\u001b[0m \u001b[31m1.9 MB/s\u001b[0m eta \u001b[36m0:00:00\u001b[0m\n",
            "\u001b[2K     \u001b[90m━━━━━━━━━━━━━━━━━━━━━━━━━━━━━━━━━━━━━━━━\u001b[0m \u001b[32m7.6/7.6 MB\u001b[0m \u001b[31m22.2 MB/s\u001b[0m eta \u001b[36m0:00:00\u001b[0m\n",
            "\u001b[2K     \u001b[90m━━━━━━━━━━━━━━━━━━━━━━━━━━━━━━━━━━━━━━━━\u001b[0m \u001b[32m1.6/1.6 MB\u001b[0m \u001b[31m47.8 MB/s\u001b[0m eta \u001b[36m0:00:00\u001b[0m\n",
            "\u001b[2K     \u001b[90m━━━━━━━━━━━━━━━━━━━━━━━━━━━━━━━━━━━━━━━\u001b[0m \u001b[32m140.6/140.6 KB\u001b[0m \u001b[31m8.2 MB/s\u001b[0m eta \u001b[36m0:00:00\u001b[0m\n",
            "\u001b[?25hMounted at /content/gdrive\n"
          ]
        }
      ],
      "source": [
        "#hide\n",
        "!pip install -Uqq fastbook\n",
        "import fastbook\n",
        "fastbook.setup_book()"
      ]
    },
    {
      "cell_type": "code",
      "execution_count": 3,
      "metadata": {
        "id": "7EMPY27tj9cx"
      },
      "outputs": [],
      "source": [
        "from fastbook import *\n",
        "from fastai.vision.widgets import *"
      ]
    },
    {
      "cell_type": "code",
      "execution_count": 6,
      "metadata": {
        "colab": {
          "base_uri": "https://localhost:8080/"
        },
        "id": "OopU-92EwEp3",
        "outputId": "3c75fc93-b26c-4e7f-a06e-c4149c359048"
      },
      "outputs": [
        {
          "output_type": "stream",
          "name": "stdout",
          "text": [
            ".\n"
          ]
        },
        {
          "output_type": "execute_result",
          "data": {
            "text/plain": [
              "['cat', 'dog']"
            ]
          },
          "metadata": {},
          "execution_count": 6
        }
      ],
      "source": [
        "path = Path()\n",
        "print(path)\n",
        "path.ls(file_exts='.pkl')\n",
        "learn_inf = load_learner(path/'export.pkl')\n",
        "learn_inf.dls.vocab"
      ]
    },
    {
      "cell_type": "code",
      "source": [
        "btn_upload = widgets.FileUpload()\n",
        "btn_upload"
      ],
      "metadata": {
        "colab": {
          "base_uri": "https://localhost:8080/",
          "height": 49,
          "referenced_widgets": [
            "1952d4487fe9495ab985c0bccae8145f",
            "97235fa4266141efbae73fc20906b410",
            "674c0f9432004931b84c89a3b329da6b"
          ]
        },
        "id": "E6xj0A6OaIo6",
        "outputId": "2c01fbea-b22b-4330-9e18-fa33bb86e477"
      },
      "execution_count": 7,
      "outputs": [
        {
          "output_type": "display_data",
          "data": {
            "text/plain": [
              "FileUpload(value={}, description='Upload')"
            ],
            "application/vnd.jupyter.widget-view+json": {
              "version_major": 2,
              "version_minor": 0,
              "model_id": "1952d4487fe9495ab985c0bccae8145f"
            }
          },
          "metadata": {}
        }
      ]
    },
    {
      "cell_type": "code",
      "source": [
        "img = PILImage.create(btn_upload.data[-1])\n",
        "out_pl = widgets.Output()\n",
        "out_pl.clear_output()\n",
        "with out_pl: display(img.to_thumb(128,128))\n",
        "out_pl\n",
        "pred,pred_idx,probs = learn_inf.predict(img)\n",
        "lbl_pred = widgets.Label()\n",
        "lbl_pred.value = f'Prediction: {pred}; Probability: {probs[pred_idx]:.04f}'\n",
        "lbl_pred"
      ],
      "metadata": {
        "colab": {
          "base_uri": "https://localhost:8080/",
          "height": 49,
          "referenced_widgets": [
            "08f3764cee5142abb747f73646602579",
            "1f9a87b0a46a4afd88e5a7d1b0caf53b",
            "1031cb6db16244dbb5f12872fd56ccf7"
          ]
        },
        "id": "di_qwjF3aeYC",
        "outputId": "8e2afcfa-2c29-4cda-c684-0460b827c7a0"
      },
      "execution_count": 8,
      "outputs": [
        {
          "output_type": "display_data",
          "data": {
            "text/plain": [
              "<IPython.core.display.HTML object>"
            ],
            "text/html": [
              "\n",
              "<style>\n",
              "    /* Turns off some styling */\n",
              "    progress {\n",
              "        /* gets rid of default border in Firefox and Opera. */\n",
              "        border: none;\n",
              "        /* Needs to be in here for Safari polyfill so background images work as expected. */\n",
              "        background-size: auto;\n",
              "    }\n",
              "    progress:not([value]), progress:not([value])::-webkit-progress-bar {\n",
              "        background: repeating-linear-gradient(45deg, #7e7e7e, #7e7e7e 10px, #5c5c5c 10px, #5c5c5c 20px);\n",
              "    }\n",
              "    .progress-bar-interrupted, .progress-bar-interrupted::-webkit-progress-bar {\n",
              "        background: #F44336;\n",
              "    }\n",
              "</style>\n"
            ]
          },
          "metadata": {}
        },
        {
          "output_type": "display_data",
          "data": {
            "text/plain": [
              "<IPython.core.display.HTML object>"
            ],
            "text/html": []
          },
          "metadata": {}
        },
        {
          "output_type": "display_data",
          "data": {
            "text/plain": [
              "Label(value='Prediction: cat; Probability: 0.9998')"
            ],
            "application/vnd.jupyter.widget-view+json": {
              "version_major": 2,
              "version_minor": 0,
              "model_id": "08f3764cee5142abb747f73646602579"
            }
          },
          "metadata": {}
        }
      ]
    },
    {
      "cell_type": "code",
      "execution_count": 9,
      "metadata": {
        "colab": {
          "base_uri": "https://localhost:8080/",
          "height": 49,
          "referenced_widgets": [
            "e01035d3934d4aeabcb66107bce67542",
            "42aabcb88f94421b99b3bd5153005031",
            "8a2e107b83ea410cb776c9d390a74895"
          ]
        },
        "id": "yJkHpWhTzy_A",
        "outputId": "f7cd954d-e415-49f2-efc9-706c7c5ad8bc"
      },
      "outputs": [
        {
          "output_type": "display_data",
          "data": {
            "text/plain": [
              "Button(description='Classify', style=ButtonStyle())"
            ],
            "application/vnd.jupyter.widget-view+json": {
              "version_major": 2,
              "version_minor": 0,
              "model_id": "e01035d3934d4aeabcb66107bce67542"
            }
          },
          "metadata": {}
        },
        {
          "output_type": "display_data",
          "data": {
            "text/plain": [
              "<IPython.core.display.HTML object>"
            ],
            "text/html": [
              "\n",
              "<style>\n",
              "    /* Turns off some styling */\n",
              "    progress {\n",
              "        /* gets rid of default border in Firefox and Opera. */\n",
              "        border: none;\n",
              "        /* Needs to be in here for Safari polyfill so background images work as expected. */\n",
              "        background-size: auto;\n",
              "    }\n",
              "    progress:not([value]), progress:not([value])::-webkit-progress-bar {\n",
              "        background: repeating-linear-gradient(45deg, #7e7e7e, #7e7e7e 10px, #5c5c5c 10px, #5c5c5c 20px);\n",
              "    }\n",
              "    .progress-bar-interrupted, .progress-bar-interrupted::-webkit-progress-bar {\n",
              "        background: #F44336;\n",
              "    }\n",
              "</style>\n"
            ]
          },
          "metadata": {}
        },
        {
          "output_type": "display_data",
          "data": {
            "text/plain": [
              "<IPython.core.display.HTML object>"
            ],
            "text/html": []
          },
          "metadata": {}
        }
      ],
      "source": [
        "btn_run = widgets.Button(description='Classify')\n",
        "btn_run"
      ]
    },
    {
      "cell_type": "code",
      "execution_count": 10,
      "metadata": {
        "id": "bNxCny-F2OrI"
      },
      "outputs": [],
      "source": [
        "def on_click_classify(change):\n",
        "    img = PILImage.create(btn_upload.data[-1])\n",
        "    out_pl.clear_output()\n",
        "    with out_pl: display(img.to_thumb(128,128))\n",
        "    pred,pred_idx,probs = learn_inf.predict(img)\n",
        "    lbl_pred.value = f'Prediction: {pred}; Probability: {probs[pred_idx]:.04f}'\n",
        "btn_run.on_click(on_click_classify)"
      ]
    },
    {
      "cell_type": "code",
      "source": [
        "#Putting back btn_upload to a widget for next cell\n",
        "btn_upload = widgets.FileUpload()"
      ],
      "metadata": {
        "id": "x4C720NDFrFu"
      },
      "execution_count": 11,
      "outputs": []
    },
    {
      "cell_type": "code",
      "source": [
        "VBox([widgets.Label('Select your pet!'), \n",
        "      btn_upload, btn_run, out_pl, lbl_pred])"
      ],
      "metadata": {
        "colab": {
          "base_uri": "https://localhost:8080/",
          "height": 230,
          "referenced_widgets": [
            "bee3b6c9fc1847daa92cd297c0bb1a61",
            "1ba4c8f8676b4d0f882783d7dbaf1167",
            "abf5356c8f744ba088eb0573bdd921fd",
            "e01035d3934d4aeabcb66107bce67542",
            "96287ebd4b364cbd8f61023538dbf7cc",
            "08f3764cee5142abb747f73646602579",
            "d1b968a2e6c64bcf99092667edb7df88",
            "fb1b0f9ed44349b6a27ca3929b39858b",
            "a3665952343b43f0a7bd3634e8bcf2e2",
            "cd5a611371c04fe5bcc3000ce58ffecb",
            "4a7fcc5f75de4e7d8a5677ec119fe8b5",
            "42aabcb88f94421b99b3bd5153005031",
            "8a2e107b83ea410cb776c9d390a74895",
            "1f9a87b0a46a4afd88e5a7d1b0caf53b",
            "1031cb6db16244dbb5f12872fd56ccf7",
            "edca784c30bb40b1a53a7125add45117"
          ]
        },
        "id": "clpYwyyKFxaX",
        "outputId": "4fd14796-8519-427b-8504-8519d93faa72"
      },
      "execution_count": 14,
      "outputs": [
        {
          "output_type": "display_data",
          "data": {
            "text/plain": [
              "VBox(children=(Label(value='Select your pet!'), FileUpload(value={}, description='Upload'), Button(description…"
            ],
            "application/vnd.jupyter.widget-view+json": {
              "version_major": 2,
              "version_minor": 0,
              "model_id": "bee3b6c9fc1847daa92cd297c0bb1a61"
            }
          },
          "metadata": {}
        },
        {
          "output_type": "display_data",
          "data": {
            "text/plain": [
              "<IPython.core.display.HTML object>"
            ],
            "text/html": [
              "\n",
              "<style>\n",
              "    /* Turns off some styling */\n",
              "    progress {\n",
              "        /* gets rid of default border in Firefox and Opera. */\n",
              "        border: none;\n",
              "        /* Needs to be in here for Safari polyfill so background images work as expected. */\n",
              "        background-size: auto;\n",
              "    }\n",
              "    progress:not([value]), progress:not([value])::-webkit-progress-bar {\n",
              "        background: repeating-linear-gradient(45deg, #7e7e7e, #7e7e7e 10px, #5c5c5c 10px, #5c5c5c 20px);\n",
              "    }\n",
              "    .progress-bar-interrupted, .progress-bar-interrupted::-webkit-progress-bar {\n",
              "        background: #F44336;\n",
              "    }\n",
              "</style>\n"
            ]
          },
          "metadata": {}
        },
        {
          "output_type": "display_data",
          "data": {
            "text/plain": [
              "<IPython.core.display.HTML object>"
            ],
            "text/html": []
          },
          "metadata": {}
        }
      ]
    },
    {
      "cell_type": "code",
      "source": [
        "# !pip install voila\n",
        "# !jupyter serverextension enable --sys-prefix voila "
      ],
      "metadata": {
        "id": "MK4lRNepF-Vt"
      },
      "execution_count": 13,
      "outputs": []
    }
  ],
  "metadata": {
    "colab": {
      "provenance": [],
      "mount_file_id": "https://github.com/muhammadhemdan/images-classifier/blob/master/images-classifier.ipynb",
      "authorship_tag": "ABX9TyOG1NfWL6+g7AQT2RcE+5sT"
    },
    "kernelspec": {
      "display_name": "Python 3",
      "name": "python3"
    },
    "language_info": {
      "name": "python"
    },
    "widgets": {
      "application/vnd.jupyter.widget-state+json": {
        "1952d4487fe9495ab985c0bccae8145f": {
          "model_module": "@jupyter-widgets/controls",
          "model_name": "FileUploadModel",
          "model_module_version": "1.5.0",
          "state": {
            "_counter": 1,
            "_dom_classes": [],
            "_model_module": "@jupyter-widgets/controls",
            "_model_module_version": "1.5.0",
            "_model_name": "FileUploadModel",
            "_view_count": null,
            "_view_module": "@jupyter-widgets/controls",
            "_view_module_version": "1.5.0",
            "_view_name": "FileUploadView",
            "accept": "",
            "button_style": "",
            "data": [
              null
            ],
            "description": "Upload",
            "description_tooltip": null,
            "disabled": false,
            "error": "",
            "icon": "upload",
            "layout": "IPY_MODEL_97235fa4266141efbae73fc20906b410",
            "metadata": [
              {
                "name": "cat.jpg",
                "type": "image/jpeg",
                "size": 3983,
                "lastModified": 1674403636406
              }
            ],
            "multiple": false,
            "style": "IPY_MODEL_674c0f9432004931b84c89a3b329da6b"
          }
        },
        "97235fa4266141efbae73fc20906b410": {
          "model_module": "@jupyter-widgets/base",
          "model_name": "LayoutModel",
          "model_module_version": "1.2.0",
          "state": {
            "_model_module": "@jupyter-widgets/base",
            "_model_module_version": "1.2.0",
            "_model_name": "LayoutModel",
            "_view_count": null,
            "_view_module": "@jupyter-widgets/base",
            "_view_module_version": "1.2.0",
            "_view_name": "LayoutView",
            "align_content": null,
            "align_items": null,
            "align_self": null,
            "border": null,
            "bottom": null,
            "display": null,
            "flex": null,
            "flex_flow": null,
            "grid_area": null,
            "grid_auto_columns": null,
            "grid_auto_flow": null,
            "grid_auto_rows": null,
            "grid_column": null,
            "grid_gap": null,
            "grid_row": null,
            "grid_template_areas": null,
            "grid_template_columns": null,
            "grid_template_rows": null,
            "height": null,
            "justify_content": null,
            "justify_items": null,
            "left": null,
            "margin": null,
            "max_height": null,
            "max_width": null,
            "min_height": null,
            "min_width": null,
            "object_fit": null,
            "object_position": null,
            "order": null,
            "overflow": null,
            "overflow_x": null,
            "overflow_y": null,
            "padding": null,
            "right": null,
            "top": null,
            "visibility": null,
            "width": null
          }
        },
        "674c0f9432004931b84c89a3b329da6b": {
          "model_module": "@jupyter-widgets/controls",
          "model_name": "ButtonStyleModel",
          "model_module_version": "1.5.0",
          "state": {
            "_model_module": "@jupyter-widgets/controls",
            "_model_module_version": "1.5.0",
            "_model_name": "ButtonStyleModel",
            "_view_count": null,
            "_view_module": "@jupyter-widgets/base",
            "_view_module_version": "1.2.0",
            "_view_name": "StyleView",
            "button_color": null,
            "font_weight": ""
          }
        },
        "08f3764cee5142abb747f73646602579": {
          "model_module": "@jupyter-widgets/controls",
          "model_name": "LabelModel",
          "model_module_version": "1.5.0",
          "state": {
            "_dom_classes": [],
            "_model_module": "@jupyter-widgets/controls",
            "_model_module_version": "1.5.0",
            "_model_name": "LabelModel",
            "_view_count": null,
            "_view_module": "@jupyter-widgets/controls",
            "_view_module_version": "1.5.0",
            "_view_name": "LabelView",
            "description": "",
            "description_tooltip": null,
            "layout": "IPY_MODEL_1f9a87b0a46a4afd88e5a7d1b0caf53b",
            "placeholder": "​",
            "style": "IPY_MODEL_1031cb6db16244dbb5f12872fd56ccf7",
            "value": "Prediction: dog; Probability: 1.0000"
          }
        },
        "1f9a87b0a46a4afd88e5a7d1b0caf53b": {
          "model_module": "@jupyter-widgets/base",
          "model_name": "LayoutModel",
          "model_module_version": "1.2.0",
          "state": {
            "_model_module": "@jupyter-widgets/base",
            "_model_module_version": "1.2.0",
            "_model_name": "LayoutModel",
            "_view_count": null,
            "_view_module": "@jupyter-widgets/base",
            "_view_module_version": "1.2.0",
            "_view_name": "LayoutView",
            "align_content": null,
            "align_items": null,
            "align_self": null,
            "border": null,
            "bottom": null,
            "display": null,
            "flex": null,
            "flex_flow": null,
            "grid_area": null,
            "grid_auto_columns": null,
            "grid_auto_flow": null,
            "grid_auto_rows": null,
            "grid_column": null,
            "grid_gap": null,
            "grid_row": null,
            "grid_template_areas": null,
            "grid_template_columns": null,
            "grid_template_rows": null,
            "height": null,
            "justify_content": null,
            "justify_items": null,
            "left": null,
            "margin": null,
            "max_height": null,
            "max_width": null,
            "min_height": null,
            "min_width": null,
            "object_fit": null,
            "object_position": null,
            "order": null,
            "overflow": null,
            "overflow_x": null,
            "overflow_y": null,
            "padding": null,
            "right": null,
            "top": null,
            "visibility": null,
            "width": null
          }
        },
        "1031cb6db16244dbb5f12872fd56ccf7": {
          "model_module": "@jupyter-widgets/controls",
          "model_name": "DescriptionStyleModel",
          "model_module_version": "1.5.0",
          "state": {
            "_model_module": "@jupyter-widgets/controls",
            "_model_module_version": "1.5.0",
            "_model_name": "DescriptionStyleModel",
            "_view_count": null,
            "_view_module": "@jupyter-widgets/base",
            "_view_module_version": "1.2.0",
            "_view_name": "StyleView",
            "description_width": ""
          }
        },
        "e01035d3934d4aeabcb66107bce67542": {
          "model_module": "@jupyter-widgets/controls",
          "model_name": "ButtonModel",
          "model_module_version": "1.5.0",
          "state": {
            "_dom_classes": [],
            "_model_module": "@jupyter-widgets/controls",
            "_model_module_version": "1.5.0",
            "_model_name": "ButtonModel",
            "_view_count": null,
            "_view_module": "@jupyter-widgets/controls",
            "_view_module_version": "1.5.0",
            "_view_name": "ButtonView",
            "button_style": "",
            "description": "Classify",
            "disabled": false,
            "icon": "",
            "layout": "IPY_MODEL_42aabcb88f94421b99b3bd5153005031",
            "style": "IPY_MODEL_8a2e107b83ea410cb776c9d390a74895",
            "tooltip": ""
          }
        },
        "42aabcb88f94421b99b3bd5153005031": {
          "model_module": "@jupyter-widgets/base",
          "model_name": "LayoutModel",
          "model_module_version": "1.2.0",
          "state": {
            "_model_module": "@jupyter-widgets/base",
            "_model_module_version": "1.2.0",
            "_model_name": "LayoutModel",
            "_view_count": null,
            "_view_module": "@jupyter-widgets/base",
            "_view_module_version": "1.2.0",
            "_view_name": "LayoutView",
            "align_content": null,
            "align_items": null,
            "align_self": null,
            "border": null,
            "bottom": null,
            "display": null,
            "flex": null,
            "flex_flow": null,
            "grid_area": null,
            "grid_auto_columns": null,
            "grid_auto_flow": null,
            "grid_auto_rows": null,
            "grid_column": null,
            "grid_gap": null,
            "grid_row": null,
            "grid_template_areas": null,
            "grid_template_columns": null,
            "grid_template_rows": null,
            "height": null,
            "justify_content": null,
            "justify_items": null,
            "left": null,
            "margin": null,
            "max_height": null,
            "max_width": null,
            "min_height": null,
            "min_width": null,
            "object_fit": null,
            "object_position": null,
            "order": null,
            "overflow": null,
            "overflow_x": null,
            "overflow_y": null,
            "padding": null,
            "right": null,
            "top": null,
            "visibility": null,
            "width": null
          }
        },
        "8a2e107b83ea410cb776c9d390a74895": {
          "model_module": "@jupyter-widgets/controls",
          "model_name": "ButtonStyleModel",
          "model_module_version": "1.5.0",
          "state": {
            "_model_module": "@jupyter-widgets/controls",
            "_model_module_version": "1.5.0",
            "_model_name": "ButtonStyleModel",
            "_view_count": null,
            "_view_module": "@jupyter-widgets/base",
            "_view_module_version": "1.2.0",
            "_view_name": "StyleView",
            "button_color": null,
            "font_weight": ""
          }
        },
        "bee3b6c9fc1847daa92cd297c0bb1a61": {
          "model_module": "@jupyter-widgets/controls",
          "model_name": "VBoxModel",
          "model_module_version": "1.5.0",
          "state": {
            "_dom_classes": [],
            "_model_module": "@jupyter-widgets/controls",
            "_model_module_version": "1.5.0",
            "_model_name": "VBoxModel",
            "_view_count": null,
            "_view_module": "@jupyter-widgets/controls",
            "_view_module_version": "1.5.0",
            "_view_name": "VBoxView",
            "box_style": "",
            "children": [
              "IPY_MODEL_1ba4c8f8676b4d0f882783d7dbaf1167",
              "IPY_MODEL_abf5356c8f744ba088eb0573bdd921fd",
              "IPY_MODEL_e01035d3934d4aeabcb66107bce67542",
              "IPY_MODEL_96287ebd4b364cbd8f61023538dbf7cc",
              "IPY_MODEL_08f3764cee5142abb747f73646602579"
            ],
            "layout": "IPY_MODEL_d1b968a2e6c64bcf99092667edb7df88"
          }
        },
        "1ba4c8f8676b4d0f882783d7dbaf1167": {
          "model_module": "@jupyter-widgets/controls",
          "model_name": "LabelModel",
          "model_module_version": "1.5.0",
          "state": {
            "_dom_classes": [],
            "_model_module": "@jupyter-widgets/controls",
            "_model_module_version": "1.5.0",
            "_model_name": "LabelModel",
            "_view_count": null,
            "_view_module": "@jupyter-widgets/controls",
            "_view_module_version": "1.5.0",
            "_view_name": "LabelView",
            "description": "",
            "description_tooltip": null,
            "layout": "IPY_MODEL_fb1b0f9ed44349b6a27ca3929b39858b",
            "placeholder": "​",
            "style": "IPY_MODEL_a3665952343b43f0a7bd3634e8bcf2e2",
            "value": "Select your pet!"
          }
        },
        "abf5356c8f744ba088eb0573bdd921fd": {
          "model_module": "@jupyter-widgets/controls",
          "model_name": "FileUploadModel",
          "model_module_version": "1.5.0",
          "state": {
            "_counter": 1,
            "_dom_classes": [],
            "_model_module": "@jupyter-widgets/controls",
            "_model_module_version": "1.5.0",
            "_model_name": "FileUploadModel",
            "_view_count": null,
            "_view_module": "@jupyter-widgets/controls",
            "_view_module_version": "1.5.0",
            "_view_name": "FileUploadView",
            "accept": "",
            "button_style": "",
            "data": [
              null
            ],
            "description": "Upload",
            "description_tooltip": null,
            "disabled": false,
            "error": "",
            "icon": "upload",
            "layout": "IPY_MODEL_cd5a611371c04fe5bcc3000ce58ffecb",
            "metadata": [
              {
                "name": "dog.jpg",
                "type": "image/jpeg",
                "size": 6909,
                "lastModified": 1674403616333
              }
            ],
            "multiple": false,
            "style": "IPY_MODEL_4a7fcc5f75de4e7d8a5677ec119fe8b5"
          }
        },
        "96287ebd4b364cbd8f61023538dbf7cc": {
          "model_module": "@jupyter-widgets/output",
          "model_name": "OutputModel",
          "model_module_version": "1.0.0",
          "state": {
            "_dom_classes": [],
            "_model_module": "@jupyter-widgets/output",
            "_model_module_version": "1.0.0",
            "_model_name": "OutputModel",
            "_view_count": null,
            "_view_module": "@jupyter-widgets/output",
            "_view_module_version": "1.0.0",
            "_view_name": "OutputView",
            "layout": "IPY_MODEL_edca784c30bb40b1a53a7125add45117",
            "msg_id": "",
            "outputs": [
              {
                "output_type": "display_data",
                "data": {
                  "text/plain": "<PIL.Image.Image image mode=RGB size=128x85>",
                  "image/png": "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\n"
                },
                "metadata": {}
              }
            ]
          }
        },
        "d1b968a2e6c64bcf99092667edb7df88": {
          "model_module": "@jupyter-widgets/base",
          "model_name": "LayoutModel",
          "model_module_version": "1.2.0",
          "state": {
            "_model_module": "@jupyter-widgets/base",
            "_model_module_version": "1.2.0",
            "_model_name": "LayoutModel",
            "_view_count": null,
            "_view_module": "@jupyter-widgets/base",
            "_view_module_version": "1.2.0",
            "_view_name": "LayoutView",
            "align_content": null,
            "align_items": null,
            "align_self": null,
            "border": null,
            "bottom": null,
            "display": null,
            "flex": null,
            "flex_flow": null,
            "grid_area": null,
            "grid_auto_columns": null,
            "grid_auto_flow": null,
            "grid_auto_rows": null,
            "grid_column": null,
            "grid_gap": null,
            "grid_row": null,
            "grid_template_areas": null,
            "grid_template_columns": null,
            "grid_template_rows": null,
            "height": null,
            "justify_content": null,
            "justify_items": null,
            "left": null,
            "margin": null,
            "max_height": null,
            "max_width": null,
            "min_height": null,
            "min_width": null,
            "object_fit": null,
            "object_position": null,
            "order": null,
            "overflow": null,
            "overflow_x": null,
            "overflow_y": null,
            "padding": null,
            "right": null,
            "top": null,
            "visibility": null,
            "width": null
          }
        },
        "fb1b0f9ed44349b6a27ca3929b39858b": {
          "model_module": "@jupyter-widgets/base",
          "model_name": "LayoutModel",
          "model_module_version": "1.2.0",
          "state": {
            "_model_module": "@jupyter-widgets/base",
            "_model_module_version": "1.2.0",
            "_model_name": "LayoutModel",
            "_view_count": null,
            "_view_module": "@jupyter-widgets/base",
            "_view_module_version": "1.2.0",
            "_view_name": "LayoutView",
            "align_content": null,
            "align_items": null,
            "align_self": null,
            "border": null,
            "bottom": null,
            "display": null,
            "flex": null,
            "flex_flow": null,
            "grid_area": null,
            "grid_auto_columns": null,
            "grid_auto_flow": null,
            "grid_auto_rows": null,
            "grid_column": null,
            "grid_gap": null,
            "grid_row": null,
            "grid_template_areas": null,
            "grid_template_columns": null,
            "grid_template_rows": null,
            "height": null,
            "justify_content": null,
            "justify_items": null,
            "left": null,
            "margin": null,
            "max_height": null,
            "max_width": null,
            "min_height": null,
            "min_width": null,
            "object_fit": null,
            "object_position": null,
            "order": null,
            "overflow": null,
            "overflow_x": null,
            "overflow_y": null,
            "padding": null,
            "right": null,
            "top": null,
            "visibility": null,
            "width": null
          }
        },
        "a3665952343b43f0a7bd3634e8bcf2e2": {
          "model_module": "@jupyter-widgets/controls",
          "model_name": "DescriptionStyleModel",
          "model_module_version": "1.5.0",
          "state": {
            "_model_module": "@jupyter-widgets/controls",
            "_model_module_version": "1.5.0",
            "_model_name": "DescriptionStyleModel",
            "_view_count": null,
            "_view_module": "@jupyter-widgets/base",
            "_view_module_version": "1.2.0",
            "_view_name": "StyleView",
            "description_width": ""
          }
        },
        "cd5a611371c04fe5bcc3000ce58ffecb": {
          "model_module": "@jupyter-widgets/base",
          "model_name": "LayoutModel",
          "model_module_version": "1.2.0",
          "state": {
            "_model_module": "@jupyter-widgets/base",
            "_model_module_version": "1.2.0",
            "_model_name": "LayoutModel",
            "_view_count": null,
            "_view_module": "@jupyter-widgets/base",
            "_view_module_version": "1.2.0",
            "_view_name": "LayoutView",
            "align_content": null,
            "align_items": null,
            "align_self": null,
            "border": null,
            "bottom": null,
            "display": null,
            "flex": null,
            "flex_flow": null,
            "grid_area": null,
            "grid_auto_columns": null,
            "grid_auto_flow": null,
            "grid_auto_rows": null,
            "grid_column": null,
            "grid_gap": null,
            "grid_row": null,
            "grid_template_areas": null,
            "grid_template_columns": null,
            "grid_template_rows": null,
            "height": null,
            "justify_content": null,
            "justify_items": null,
            "left": null,
            "margin": null,
            "max_height": null,
            "max_width": null,
            "min_height": null,
            "min_width": null,
            "object_fit": null,
            "object_position": null,
            "order": null,
            "overflow": null,
            "overflow_x": null,
            "overflow_y": null,
            "padding": null,
            "right": null,
            "top": null,
            "visibility": null,
            "width": null
          }
        },
        "4a7fcc5f75de4e7d8a5677ec119fe8b5": {
          "model_module": "@jupyter-widgets/controls",
          "model_name": "ButtonStyleModel",
          "model_module_version": "1.5.0",
          "state": {
            "_model_module": "@jupyter-widgets/controls",
            "_model_module_version": "1.5.0",
            "_model_name": "ButtonStyleModel",
            "_view_count": null,
            "_view_module": "@jupyter-widgets/base",
            "_view_module_version": "1.2.0",
            "_view_name": "StyleView",
            "button_color": null,
            "font_weight": ""
          }
        },
        "edca784c30bb40b1a53a7125add45117": {
          "model_module": "@jupyter-widgets/base",
          "model_name": "LayoutModel",
          "model_module_version": "1.2.0",
          "state": {
            "_model_module": "@jupyter-widgets/base",
            "_model_module_version": "1.2.0",
            "_model_name": "LayoutModel",
            "_view_count": null,
            "_view_module": "@jupyter-widgets/base",
            "_view_module_version": "1.2.0",
            "_view_name": "LayoutView",
            "align_content": null,
            "align_items": null,
            "align_self": null,
            "border": null,
            "bottom": null,
            "display": null,
            "flex": null,
            "flex_flow": null,
            "grid_area": null,
            "grid_auto_columns": null,
            "grid_auto_flow": null,
            "grid_auto_rows": null,
            "grid_column": null,
            "grid_gap": null,
            "grid_row": null,
            "grid_template_areas": null,
            "grid_template_columns": null,
            "grid_template_rows": null,
            "height": null,
            "justify_content": null,
            "justify_items": null,
            "left": null,
            "margin": null,
            "max_height": null,
            "max_width": null,
            "min_height": null,
            "min_width": null,
            "object_fit": null,
            "object_position": null,
            "order": null,
            "overflow": null,
            "overflow_x": null,
            "overflow_y": null,
            "padding": null,
            "right": null,
            "top": null,
            "visibility": null,
            "width": null
          }
        }
      }
    },
    "gpuClass": "standard"
  },
  "nbformat": 4,
  "nbformat_minor": 0
}